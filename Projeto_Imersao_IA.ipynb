{
  "nbformat": 4,
  "nbformat_minor": 0,
  "metadata": {
    "colab": {
      "provenance": [],
      "authorship_tag": "ABX9TyOBq3yvMyve85RVk2eTzz3Q",
      "include_colab_link": true
    },
    "kernelspec": {
      "name": "python3",
      "display_name": "Python 3"
    },
    "language_info": {
      "name": "python"
    }
  },
  "cells": [
    {
      "cell_type": "markdown",
      "metadata": {
        "id": "view-in-github",
        "colab_type": "text"
      },
      "source": [
        "<a href=\"https://colab.research.google.com/github/elianebcdev/GenIA_Projeto/blob/main/Projeto_Imersao_IA.ipynb\" target=\"_parent\"><img src=\"https://colab.research.google.com/assets/colab-badge.svg\" alt=\"Open In Colab\"/></a>"
      ]
    },
    {
      "cell_type": "code",
      "execution_count": 1,
      "metadata": {
        "id": "qhplQRXiXZRF"
      },
      "outputs": [],
      "source": [
        "!pip install -q -U google-generativeai"
      ]
    },
    {
      "cell_type": "code",
      "source": [
        "# Import the Python SDK\n",
        "import google.generativeai as genai\n",
        "from google.colab import userdata\n",
        "api_key = userdata.get(\"SECRET_KEY\")\n",
        "genai.configure(api_key=api_key)"
      ],
      "metadata": {
        "id": "-pPD-KHzXm_x"
      },
      "execution_count": 13,
      "outputs": []
    },
    {
      "cell_type": "markdown",
      "source": [
        "Listar os modelos existentes."
      ],
      "metadata": {
        "id": "M1EawiurXuqK"
      }
    },
    {
      "cell_type": "code",
      "source": [
        "for m in genai.list_models():\n",
        "  if 'generateContent' in m.supported_generation_methods:\n",
        "    print(m.name)"
      ],
      "metadata": {
        "colab": {
          "base_uri": "https://localhost:8080/",
          "height": 139
        },
        "id": "ivVFjSkzXsnL",
        "outputId": "fba9b8b6-9e9d-4b30-d4f3-6c161444c1c3"
      },
      "execution_count": 14,
      "outputs": [
        {
          "output_type": "stream",
          "name": "stdout",
          "text": [
            "models/gemini-1.0-pro\n",
            "models/gemini-1.0-pro-001\n",
            "models/gemini-1.0-pro-latest\n",
            "models/gemini-1.0-pro-vision-latest\n",
            "models/gemini-1.5-pro-latest\n",
            "models/gemini-pro\n",
            "models/gemini-pro-vision\n"
          ]
        }
      ]
    },
    {
      "cell_type": "markdown",
      "source": [
        "Na \"ide\" do gemini, existem configurações que podem ser feitas na tela para calibrar o modelo. Aqui estamos fazendo a mesma só que através de código."
      ],
      "metadata": {
        "id": "GJ5pDFfxbZwU"
      }
    },
    {
      "cell_type": "code",
      "source": [
        "generation_config = {\n",
        "    \"candidate_count\": 1,\n",
        "    \"temperature\": 0.5,\n",
        "    \"top_p\": 1\n",
        "}"
      ],
      "metadata": {
        "id": "F4EDc-AiaO1w"
      },
      "execution_count": 4,
      "outputs": []
    },
    {
      "cell_type": "code",
      "source": [
        "safety_settings = {\n",
        "    \"HARASSMENT\": \"BLOCK_NONE\",\n",
        "    \"HATE\": \"BLOCK_NONE\",\n",
        "    \"SEXUAL\": \"BLOCK_NONE\",\n",
        "    \"DANGEROUS\": \"BLOCK_NONE\"\n",
        "}"
      ],
      "metadata": {
        "id": "ZaMClP14aoB_"
      },
      "execution_count": 5,
      "outputs": []
    },
    {
      "cell_type": "markdown",
      "source": [
        "Inicializando o modelo."
      ],
      "metadata": {
        "id": "RRhDlWZcbwft"
      }
    },
    {
      "cell_type": "code",
      "source": [
        "model = genai.GenerativeModel(model_name=\"gemini-1.0-pro\",generation_config=generation_config,safety_settings=safety_settings)"
      ],
      "metadata": {
        "id": "dG8KXtI_b08_"
      },
      "execution_count": 6,
      "outputs": []
    },
    {
      "cell_type": "markdown",
      "source": [
        "Agora vamos ver se uma response pode ser gerada."
      ],
      "metadata": {
        "id": "yc-_PhUecj_m"
      }
    },
    {
      "cell_type": "code",
      "source": [
        "response = model.generate_content(\"Vamos aprender conteúdo sobre IA. Me dê sugestões.\")\n",
        "print(response.text)"
      ],
      "metadata": {
        "colab": {
          "base_uri": "https://localhost:8080/",
          "height": 729
        },
        "id": "p-_4DxgQcrT-",
        "outputId": "aea0e71f-d58f-4b38-fce7-a0759823be9c"
      },
      "execution_count": 7,
      "outputs": [
        {
          "output_type": "stream",
          "name": "stdout",
          "text": [
            "**Conceitos Fundamentais**\n",
            "\n",
            "* O que é Inteligência Artificial (IA)?\n",
            "* Tipos de IA: Aprendizado de Máquina, Aprendizado Profundo, Processamento de Linguagem Natural\n",
            "* Algoritmos de IA: Regressão, Classificação, Clustering\n",
            "* Aplicações de IA: Automatização, Análise de Dados, Reconhecimento de Padrões\n",
            "\n",
            "**Aprendizado de Máquina**\n",
            "\n",
            "* Tipos de Aprendizado de Máquina: Supervisionado, Não Supervisionado, por Reforço\n",
            "* Modelos de Aprendizado de Máquina: Árvores de Decisão, Regressão Logística, Redes Neurais\n",
            "* Avaliação de Modelos de Aprendizado de Máquina: Precisão, Recall, F1-Score\n",
            "* Técnicas de Pré-processamento de Dados: Limpeza, Normalização, Transformação\n",
            "\n",
            "**Aprendizado Profundo**\n",
            "\n",
            "* O que é Aprendizado Profundo?\n",
            "* Redes Neurais: Arquiteturas, Funções de Ativação, Camadas\n",
            "* Treinamento de Redes Neurais: Retropropagação, Gradiente Descendente\n",
            "* Aplicações de Aprendizado Profundo: Reconhecimento de Imagem, Processamento de Linguagem Natural, Visão Computacional\n",
            "\n",
            "**Processamento de Linguagem Natural**\n",
            "\n",
            "* O que é Processamento de Linguagem Natural (PNL)?\n",
            "* Técnicas de PNL: Tokenização, Stemming, Lematização\n",
            "* Modelos de PNL: Modelos de Linguagem, Embeddings de Palavras\n",
            "* Aplicações de PNL: Chatbots, Tradução Automática, Resumo de Texto\n",
            "\n",
            "**Ética e Implicações Sociais da IA**\n",
            "\n",
            "* Viés e Discriminação em Sistemas de IA\n",
            "* Privacidade e Segurança de Dados\n",
            "* Desemprego e Desigualdade Social Causados pela IA\n",
            "* Regulamentações e Diretrizes Éticas para IA\n",
            "\n",
            "**Recursos Adicionais**\n",
            "\n",
            "* **Cursos Online:** Coursera, edX, Udemy\n",
            "* **Livros:** \"Inteligência Artificial: Uma Abordagem Moderna\" (Stuart Russell e Peter Norvig), \"Aprendizado de Máquina\" (Ethem Alpaydin)\n",
            "* **Conferências e Workshops:** NeurIPS, ICML, CVPR\n",
            "* **Comunidades Online:** Reddit (r/MachineLearning, r/DeepLearning), Kaggle\n"
          ]
        }
      ]
    },
    {
      "cell_type": "code",
      "source": [
        "chat = model.start_chat(history=[])"
      ],
      "metadata": {
        "id": "gadPIIEOdFSW"
      },
      "execution_count": 8,
      "outputs": []
    },
    {
      "cell_type": "code",
      "source": [
        "prompt = input(\"Esperando prompt: \")\n",
        "while prompt != \"fim\":\n",
        "  response = chat.send_message(prompt)\n",
        "  print(\"Resposta: \", response.text, \"\\n\")\n",
        "  prompt = input(\"Esperando prompt: \")"
      ],
      "metadata": {
        "colab": {
          "base_uri": "https://localhost:8080/",
          "height": 766
        },
        "id": "jWXwx-_ydblr",
        "outputId": "e14f4514-3945-43fc-8174-2593af5d6da7"
      },
      "execution_count": 9,
      "outputs": [
        {
          "name": "stdout",
          "output_type": "stream",
          "text": [
            "Esperando prompt: me fale do sistema solar\n",
            "Resposta:  **Sistema Solar**\n",
            "\n",
            "O Sistema Solar é um sistema planetário que consiste no Sol, uma estrela do tipo G2V, e os objetos que orbitam-no, incluindo oito planetas, planetas anões, luas, asteroides, cometas e meteoroides.\n",
            "\n",
            "**Estrela:**\n",
            "\n",
            "* Sol: Uma estrela do tipo G2V, com aproximadamente 4,6 bilhões de anos.\n",
            "* É a principal fonte de energia do Sistema Solar, emitindo luz e calor.\n",
            "\n",
            "**Planetas:**\n",
            "\n",
            "* Mercúrio: O menor e mais próximo planeta do Sol.\n",
            "* Vênus: O segundo planeta do Sol, conhecido como o \"Planeta Irmão\" devido às suas semelhanças com a Terra.\n",
            "* Terra: O terceiro planeta do Sol, o único conhecido por sustentar vida.\n",
            "* Marte: O quarto planeta do Sol, conhecido como o \"Planeta Vermelho\" devido à sua coloração avermelhada.\n",
            "* Júpiter: O maior planeta do Sistema Solar, um gigante gasoso.\n",
            "* Saturno: O segundo maior planeta do Sistema Solar, conhecido por seus anéis.\n",
            "* Urano: O sétimo planeta do Sol, um gigante gelado.\n",
            "* Netuno: O oitavo e mais distante planeta do Sol, também um gigante gelado.\n",
            "\n",
            "**Planetas Anões:**\n",
            "\n",
            "* Plutão: Anteriormente considerado o nono planeta, agora classificado como um planeta anão.\n",
            "* Éris: O segundo maior planeta anão conhecido.\n",
            "* Ceres: O maior objeto do cinturão de asteroides.\n",
            "\n",
            "**Outros Objetos:**\n",
            "\n",
            "* Luas: Cada planeta possui um ou mais satélites naturais.\n",
            "* Asteroides: Pequenos corpos rochosos que orbitam o Sol, principalmente no cinturão de asteroides entre Marte e Júpiter.\n",
            "* Cometas: Objetos gelados que liberam gás e poeira quando se aproximam do Sol.\n",
            "* Meteoroides: Pequenos fragmentos de rocha ou metal que entram na atmosfera da Terra e se tornam meteoros.\n",
            "\n",
            "**Características:**\n",
            "\n",
            "* O Sistema Solar é um sistema dinâmico, com objetos orbitando o Sol em diferentes velocidades e trajetórias.\n",
            "* Os planetas internos (Mercúrio, Vênus, Terra e Marte) são rochosos, enquanto os planetas externos (Júpiter, Saturno, Urano e Netuno) são gigantes gasosos ou gelados.\n",
            "* O Sistema Solar está localizado no braço de Órion da Via Láctea, uma galáxia espiral.\n",
            "* A distância média entre a Terra e o Sol é conhecida como uma unidade astronômica (UA), que é aproximadamente 150 milhões de quilômetros. \n",
            "\n",
            "Esperando prompt: fim\n"
          ]
        }
      ]
    },
    {
      "cell_type": "code",
      "source": [
        "chat"
      ],
      "metadata": {
        "colab": {
          "base_uri": "https://localhost:8080/"
        },
        "id": "042DRgNpfe7l",
        "outputId": "afd11816-fab2-42d4-f84a-e7469131c79c"
      },
      "execution_count": 10,
      "outputs": [
        {
          "output_type": "execute_result",
          "data": {
            "text/plain": [
              "ChatSession(\n",
              "    model=genai.GenerativeModel(\n",
              "        model_name='models/gemini-1.0-pro',\n",
              "        generation_config={'candidate_count': 1, 'temperature': 0.5, 'top_p': 1},\n",
              "        safety_settings={<HarmCategory.HARM_CATEGORY_HARASSMENT: 7>: <HarmBlockThreshold.BLOCK_NONE: 4>, <HarmCategory.HARM_CATEGORY_HATE_SPEECH: 8>: <HarmBlockThreshold.BLOCK_NONE: 4>, <HarmCategory.HARM_CATEGORY_SEXUALLY_EXPLICIT: 9>: <HarmBlockThreshold.BLOCK_NONE: 4>, <HarmCategory.HARM_CATEGORY_DANGEROUS_CONTENT: 10>: <HarmBlockThreshold.BLOCK_NONE: 4>},\n",
              "        tools=None,\n",
              "        system_instruction=None,\n",
              "    ),\n",
              "    history=[glm.Content({'parts': [{'text': 'me fale do sistema solar'}], 'role': 'user'}), glm.Content({'parts': [{'text': '**Sistema So... quilômetros.'}], 'role': 'model'})]\n",
              ")"
            ]
          },
          "metadata": {},
          "execution_count": 10
        }
      ]
    },
    {
      "cell_type": "code",
      "source": [
        "chat.history"
      ],
      "metadata": {
        "colab": {
          "base_uri": "https://localhost:8080/"
        },
        "id": "vqcIdwMifjkM",
        "outputId": "00c0352b-7af4-426f-ace9-8cf7afc6dbfd"
      },
      "execution_count": 11,
      "outputs": [
        {
          "output_type": "execute_result",
          "data": {
            "text/plain": [
              "[parts {\n",
              "   text: \"me fale do sistema solar\"\n",
              " }\n",
              " role: \"user\",\n",
              " parts {\n",
              "   text: \"**Sistema Solar**\\n\\nO Sistema Solar \\303\\251 um sistema planet\\303\\241rio que consiste no Sol, uma estrela do tipo G2V, e os objetos que orbitam-no, incluindo oito planetas, planetas an\\303\\265es, luas, asteroides, cometas e meteoroides.\\n\\n**Estrela:**\\n\\n* Sol: Uma estrela do tipo G2V, com aproximadamente 4,6 bilh\\303\\265es de anos.\\n* \\303\\211 a principal fonte de energia do Sistema Solar, emitindo luz e calor.\\n\\n**Planetas:**\\n\\n* Merc\\303\\272rio: O menor e mais pr\\303\\263ximo planeta do Sol.\\n* V\\303\\252nus: O segundo planeta do Sol, conhecido como o \\\"Planeta Irm\\303\\243o\\\" devido \\303\\240s suas semelhan\\303\\247as com a Terra.\\n* Terra: O terceiro planeta do Sol, o \\303\\272nico conhecido por sustentar vida.\\n* Marte: O quarto planeta do Sol, conhecido como o \\\"Planeta Vermelho\\\" devido \\303\\240 sua colora\\303\\247\\303\\243o avermelhada.\\n* J\\303\\272piter: O maior planeta do Sistema Solar, um gigante gasoso.\\n* Saturno: O segundo maior planeta do Sistema Solar, conhecido por seus an\\303\\251is.\\n* Urano: O s\\303\\251timo planeta do Sol, um gigante gelado.\\n* Netuno: O oitavo e mais distante planeta do Sol, tamb\\303\\251m um gigante gelado.\\n\\n**Planetas An\\303\\265es:**\\n\\n* Plut\\303\\243o: Anteriormente considerado o nono planeta, agora classificado como um planeta an\\303\\243o.\\n* \\303\\211ris: O segundo maior planeta an\\303\\243o conhecido.\\n* Ceres: O maior objeto do cintur\\303\\243o de asteroides.\\n\\n**Outros Objetos:**\\n\\n* Luas: Cada planeta possui um ou mais sat\\303\\251lites naturais.\\n* Asteroides: Pequenos corpos rochosos que orbitam o Sol, principalmente no cintur\\303\\243o de asteroides entre Marte e J\\303\\272piter.\\n* Cometas: Objetos gelados que liberam g\\303\\241s e poeira quando se aproximam do Sol.\\n* Meteoroides: Pequenos fragmentos de rocha ou metal que entram na atmosfera da Terra e se tornam meteoros.\\n\\n**Caracter\\303\\255sticas:**\\n\\n* O Sistema Solar \\303\\251 um sistema din\\303\\242mico, com objetos orbitando o Sol em diferentes velocidades e trajet\\303\\263rias.\\n* Os planetas internos (Merc\\303\\272rio, V\\303\\252nus, Terra e Marte) s\\303\\243o rochosos, enquanto os planetas externos (J\\303\\272piter, Saturno, Urano e Netuno) s\\303\\243o gigantes gasosos ou gelados.\\n* O Sistema Solar est\\303\\241 localizado no bra\\303\\247o de \\303\\223rion da Via L\\303\\241ctea, uma gal\\303\\241xia espiral.\\n* A dist\\303\\242ncia m\\303\\251dia entre a Terra e o Sol \\303\\251 conhecida como uma unidade astron\\303\\264mica (UA), que \\303\\251 aproximadamente 150 milh\\303\\265es de quil\\303\\264metros.\"\n",
              " }\n",
              " role: \"model\"]"
            ]
          },
          "metadata": {},
          "execution_count": 11
        }
      ]
    },
    {
      "cell_type": "code",
      "source": [
        "#Melhorando a visualização\n",
        "#Código disponível em https://ai.google.dev/tutorials/python_quickstart#import_packages\n",
        "import textwrap\n",
        "from IPython.display import display\n",
        "from IPython.display import Markdown\n",
        "\n",
        "def to_markdown(text):\n",
        "  text = text.replace('•', '  *')\n",
        "  return Markdown(textwrap.indent(text, '> ', predicate=lambda _: True))\n",
        "\n",
        "#Imprimindo o histórico\n",
        "for message in chat.history:\n",
        "  display(to_markdown(f'**{message.role}**: {message.parts[0].text}'))\n",
        "  print('-------------------------------------------')"
      ],
      "metadata": {
        "colab": {
          "base_uri": "https://localhost:8080/",
          "height": 712
        },
        "id": "1zBon-r1fnS0",
        "outputId": "554bf80d-43a4-4a13-c671-b3e4e66bb4cd"
      },
      "execution_count": 12,
      "outputs": [
        {
          "output_type": "display_data",
          "data": {
            "text/plain": [
              "<IPython.core.display.Markdown object>"
            ],
            "text/markdown": "> **user**: me fale do sistema solar"
          },
          "metadata": {}
        },
        {
          "output_type": "stream",
          "name": "stdout",
          "text": [
            "-------------------------------------------\n"
          ]
        },
        {
          "output_type": "display_data",
          "data": {
            "text/plain": [
              "<IPython.core.display.Markdown object>"
            ],
            "text/markdown": "> **model**: **Sistema Solar**\n> \n> O Sistema Solar é um sistema planetário que consiste no Sol, uma estrela do tipo G2V, e os objetos que orbitam-no, incluindo oito planetas, planetas anões, luas, asteroides, cometas e meteoroides.\n> \n> **Estrela:**\n> \n> * Sol: Uma estrela do tipo G2V, com aproximadamente 4,6 bilhões de anos.\n> * É a principal fonte de energia do Sistema Solar, emitindo luz e calor.\n> \n> **Planetas:**\n> \n> * Mercúrio: O menor e mais próximo planeta do Sol.\n> * Vênus: O segundo planeta do Sol, conhecido como o \"Planeta Irmão\" devido às suas semelhanças com a Terra.\n> * Terra: O terceiro planeta do Sol, o único conhecido por sustentar vida.\n> * Marte: O quarto planeta do Sol, conhecido como o \"Planeta Vermelho\" devido à sua coloração avermelhada.\n> * Júpiter: O maior planeta do Sistema Solar, um gigante gasoso.\n> * Saturno: O segundo maior planeta do Sistema Solar, conhecido por seus anéis.\n> * Urano: O sétimo planeta do Sol, um gigante gelado.\n> * Netuno: O oitavo e mais distante planeta do Sol, também um gigante gelado.\n> \n> **Planetas Anões:**\n> \n> * Plutão: Anteriormente considerado o nono planeta, agora classificado como um planeta anão.\n> * Éris: O segundo maior planeta anão conhecido.\n> * Ceres: O maior objeto do cinturão de asteroides.\n> \n> **Outros Objetos:**\n> \n> * Luas: Cada planeta possui um ou mais satélites naturais.\n> * Asteroides: Pequenos corpos rochosos que orbitam o Sol, principalmente no cinturão de asteroides entre Marte e Júpiter.\n> * Cometas: Objetos gelados que liberam gás e poeira quando se aproximam do Sol.\n> * Meteoroides: Pequenos fragmentos de rocha ou metal que entram na atmosfera da Terra e se tornam meteoros.\n> \n> **Características:**\n> \n> * O Sistema Solar é um sistema dinâmico, com objetos orbitando o Sol em diferentes velocidades e trajetórias.\n> * Os planetas internos (Mercúrio, Vênus, Terra e Marte) são rochosos, enquanto os planetas externos (Júpiter, Saturno, Urano e Netuno) são gigantes gasosos ou gelados.\n> * O Sistema Solar está localizado no braço de Órion da Via Láctea, uma galáxia espiral.\n> * A distância média entre a Terra e o Sol é conhecida como uma unidade astronômica (UA), que é aproximadamente 150 milhões de quilômetros."
          },
          "metadata": {}
        },
        {
          "output_type": "stream",
          "name": "stdout",
          "text": [
            "-------------------------------------------\n"
          ]
        }
      ]
    }
  ]
}